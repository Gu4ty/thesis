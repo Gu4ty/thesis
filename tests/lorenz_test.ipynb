{
 "cells": [
  {
   "cell_type": "code",
   "execution_count": 3,
   "id": "a3cf029f",
   "metadata": {},
   "outputs": [],
   "source": [
    "import sys\n",
    "sys.path.append(\"../\")"
   ]
  },
  {
   "cell_type": "code",
   "execution_count": 4,
   "id": "43698aa1",
   "metadata": {},
   "outputs": [],
   "source": [
    "INTERVAL_LOW = 0\n",
    "INTERVAL_HIGH = 100"
   ]
  },
  {
   "cell_type": "code",
   "execution_count": 5,
   "id": "c522b0b8",
   "metadata": {},
   "outputs": [],
   "source": [
    "import random\n",
    "\n",
    "INTERVAL_LOW = 0\n",
    "INTERVAL_HIGH = 100\n",
    "SAMPLES = int(1e5)\n",
    "\n",
    "a = 10\n",
    "b = 28\n",
    "c = 8/3\n",
    "normalization_factor = 100\n",
    "\n",
    "def system(y, t,a,b,c):\n",
    "    x, y, z = y   \n",
    "    dxdt = a * (y - x)\n",
    "    dydt = x * (b - z) - y\n",
    "    dzdt = x * y - c * z\n",
    "    return dxdt, dydt, dzdt\n",
    "\n",
    "def get_time_norm_function(function, max_time):\n",
    "    def function_norm_time(t):\n",
    "        return function(t * max_time)\n",
    "\n",
    "    return function_norm_time\n",
    "\n",
    "\n",
    "def initial_conditions(number_of_initial_conditions):\n",
    "    def generate_initial_conditions():\n",
    "        x = random.uniform(-20,20)\n",
    "        y = random.uniform(-20,20)\n",
    "        z = random.uniform(-20,20)\n",
    "        return  [x,y,z]\n",
    "    \n",
    "    yield [-8,7,27 ]\n",
    "    for i in range(number_of_initial_conditions -1):  \n",
    "        yield generate_initial_conditions()\n",
    "\n",
    "include_time = True\n",
    "# The ideal trained neural network model\n",
    "class ExactModel:\n",
    "    def eval_model(self, X):\n",
    "        if include_time:\n",
    "            return [a * (X[2]*normalization_factor - X[1] * normalization_factor)]\n",
    "        else:\n",
    "            return [a * (X[1]*normalization_factor - X[0] * normalization_factor)]\n",
    "#         if include_time:\n",
    "#             return [X[1]*normalization_factor * (b - X[3]*normalization_factor) - X[2] * normalization_factor]\n",
    "#         else:\n",
    "#             return [X[0]*normalization_factor * (b - X[2]*normalization_factor) - X[1] * normalization_factor]\n",
    "#         if include_time:\n",
    "#             return [X[1] *normalization_factor * X[2] * normalization_factor - c * X[3] * normalization_factor]\n",
    "#         else:\n",
    "#             return [X[0] *normalization_factor * X[1] * normalization_factor - c * X[2] * normalization_factor]\n",
    "\n",
    "exact = ExactModel()"
   ]
  },
  {
   "cell_type": "code",
   "execution_count": 6,
   "id": "89b855f5",
   "metadata": {},
   "outputs": [
    {
     "name": "stdout",
     "output_type": "stream",
     "text": [
      "Generating training data...\n",
      "[-8, 7, 27]\n",
      "Done\n"
     ]
    },
    {
     "data": {
      "image/png": "[encoded data removed]",
      "text/plain": [
       "<Figure size 432x288 with 3 Axes>"
      ]
     },
     "metadata": {
      "needs_background": "light"
     },
     "output_type": "display_data"
    }
   ],
   "source": [
    "from interpolation.interpolate_system import odeint_interpolate\n",
    "from interpolation.regression_dataset import RegressionDataset\n",
    "\n",
    "import matplotlib.pyplot as plt\n",
    "import numpy as np\n",
    "\n",
    "\n",
    "number_of_systems = 1\n",
    "samples_per_system = 1000000\n",
    "\n",
    "dataset_train = None\n",
    "dataset_test = None\n",
    "\n",
    "\n",
    "print(\"Generating training data...\")\n",
    "# f, axes = plt.subplots(2, 1, sharex='col', sharey='col', figsize=(7, 15))\n",
    "f, axes = plt.subplots(1, 3)\n",
    "\n",
    "for init_conditions in initial_conditions(number_of_systems):\n",
    "    print(init_conditions)\n",
    "    y_inter = odeint_interpolate( system, init_conditions, INTERVAL_LOW, INTERVAL_HIGH, 10000, (a,b,c))\n",
    "    y_inter_time_norm = [get_time_norm_function(yi, INTERVAL_HIGH) for yi in y_inter]\n",
    "    \n",
    "    t = np.linspace(INTERVAL_LOW, INTERVAL_HIGH, 10000)\n",
    "    X,Y, Z = y_inter\n",
    "\n",
    "    axes[0].plot(t, [X(ti) for ti in t])\n",
    "    axes[1].plot(t, [Y(ti) for ti in t])\n",
    "    axes[2].plot(t, [Z(ti) for ti in t])\n",
    "    \n",
    "#     print(init_conditions)\n",
    "\n",
    "    def y_prime(t):\n",
    "        return a * (y_inter_time_norm[1](t) - y_inter_time_norm[0](t))\n",
    "#         return y_inter_time_norm[0](t) * ( b - y_inter_time_norm[2](t)) - y_inter_time_norm[1](t)\n",
    "#         return y_inter_time_norm[0](t) * y_inter_time_norm[1](t) - c * y_inter_time_norm[2](t)\n",
    "\n",
    "    d_train = RegressionDataset(y_inter_time_norm, y_prime, normalization_factor, samples_per_system * 80 // 100, include_time, 0, 1)\n",
    "    d_test = RegressionDataset(y_inter_time_norm, y_prime, normalization_factor, samples_per_system * 20 // 100, include_time, 0, 1)\n",
    "   \n",
    "    if dataset_train:\n",
    "        dataset_train.concat_dataset(d_train)\n",
    "        dataset_test.concat_dataset(d_test)\n",
    "    else:\n",
    "        dataset_train = d_train\n",
    "        dataset_test = d_test\n",
    "\n",
    "\n",
    "\n",
    "\n",
    "print(\"Done\")\n",
    "axes[0].grid()\n",
    "axes[1].grid()\n",
    "axes[2].grid()\n",
    "axes[0].set_title(\"x(t)\")\n",
    "axes[1].set_title(\"y(t)\")\n",
    "axes[2].set_title(\"z(t)\")\n",
    "\n",
    "# plt.savefig('lotka_volterra_example_two_initial_conditions.png')\n",
    "plt.show()"
   ]
  },
  {
   "cell_type": "code",
   "execution_count": 8,
   "id": "b12e663e",
   "metadata": {},
   "outputs": [
    {
     "name": "stdout",
     "output_type": "stream",
     "text": [
      "The autoreload extension is already loaded. To reload it, use:\n",
      "  %reload_ext autoreload\n",
      "NVIDIA GeForce RTX 3050 Ti Laptop GPU\n",
      "Memory Usage:\n",
      "Allocated: 0.0 GB\n",
      "Cached:    0.1 GB\n",
      "epoch: 0\n",
      "train_loss: 332.32569258379687\n",
      "test_loss: 20.86027359743554\n"
     ]
    },
    {
     "ename": "KeyboardInterrupt",
     "evalue": "",
     "output_type": "error",
     "traceback": [
      "\u001b[0;31m---------------------------------------------------------------------------\u001b[0m",
      "\u001b[0;31mKeyboardInterrupt\u001b[0m                         Traceback (most recent call last)",
      "Input \u001b[0;32mIn [8]\u001b[0m, in \u001b[0;36m<cell line: 4>\u001b[0;34m()\u001b[0m\n\u001b[1;32m      2\u001b[0m get_ipython()\u001b[38;5;241m.\u001b[39mrun_line_magic(\u001b[38;5;124m'\u001b[39m\u001b[38;5;124mautoreload\u001b[39m\u001b[38;5;124m'\u001b[39m, \u001b[38;5;124m'\u001b[39m\u001b[38;5;124m2\u001b[39m\u001b[38;5;124m'\u001b[39m)\n\u001b[1;32m      3\u001b[0m \u001b[38;5;28;01mfrom\u001b[39;00m \u001b[38;5;21;01minterpolation\u001b[39;00m\u001b[38;5;21;01m.\u001b[39;00m\u001b[38;5;21;01mregression_nn\u001b[39;00m \u001b[38;5;28;01mimport\u001b[39;00m RegressionNN\n\u001b[0;32m----> 4\u001b[0m m1 \u001b[38;5;241m=\u001b[39m \u001b[43mRegressionNN\u001b[49m\u001b[38;5;241;43m.\u001b[39;49m\u001b[43mnn_dataset_regression\u001b[49m\u001b[43m(\u001b[49m\u001b[43mdataset_train\u001b[49m\u001b[43m,\u001b[49m\u001b[43m \u001b[49m\u001b[43mdataset_test\u001b[49m\u001b[43m,\u001b[49m\u001b[38;5;241;43m1000\u001b[39;49m\u001b[43m,\u001b[49m\u001b[43m \u001b[49m\u001b[38;5;241;43m50\u001b[39;49m\u001b[43m)\u001b[49m\n",
      "File \u001b[0;32m/mnt/8CD8D439D8D422EE/Escuela/Tesis/Tesis/src/tests/../interpolation/regression_nn.py:202\u001b[0m, in \u001b[0;36mRegressionNN.nn_dataset_regression\u001b[0;34m(dataset_train, dataset_test, batch_size, epochs, learning_rate)\u001b[0m\n\u001b[1;32m    200\u001b[0m     \u001b[38;5;28mprint\u001b[39m(\u001b[38;5;124mf\u001b[39m\u001b[38;5;124m\"\u001b[39m\u001b[38;5;124mepoch: \u001b[39m\u001b[38;5;132;01m{\u001b[39;00me\u001b[38;5;132;01m}\u001b[39;00m\u001b[38;5;124m\"\u001b[39m)\n\u001b[1;32m    201\u001b[0m model\u001b[38;5;241m.\u001b[39mtrain()\n\u001b[0;32m--> 202\u001b[0m train_loss \u001b[38;5;241m=\u001b[39m \u001b[43mmodel\u001b[49m\u001b[38;5;241;43m.\u001b[39;49m\u001b[43mtrain_loop\u001b[49m\u001b[43m(\u001b[49m\n\u001b[1;32m    203\u001b[0m \u001b[43m    \u001b[49m\u001b[43mdataloader_train\u001b[49m\u001b[43m,\u001b[49m\u001b[43m \u001b[49m\u001b[43mloss_fn\u001b[49m\u001b[43m,\u001b[49m\u001b[43m \u001b[49m\u001b[43moptimizer\u001b[49m\u001b[43m,\u001b[49m\u001b[43m \u001b[49m\u001b[43me\u001b[49m\u001b[43m \u001b[49m\u001b[38;5;241;43m%\u001b[39;49m\u001b[43m \u001b[49m\u001b[38;5;241;43m10\u001b[39;49m\u001b[43m \u001b[49m\u001b[38;5;241;43m==\u001b[39;49m\u001b[43m \u001b[49m\u001b[38;5;241;43m0\u001b[39;49m\u001b[43m \u001b[49m\u001b[38;5;129;43;01mor\u001b[39;49;00m\u001b[43m \u001b[49m\u001b[43me\u001b[49m\u001b[43m \u001b[49m\u001b[38;5;241;43m==\u001b[39;49m\u001b[43m \u001b[49m\u001b[43m(\u001b[49m\u001b[43mepochs\u001b[49m\u001b[43m \u001b[49m\u001b[38;5;241;43m-\u001b[39;49m\u001b[43m \u001b[49m\u001b[38;5;241;43m1\u001b[39;49m\u001b[43m)\u001b[49m\n\u001b[1;32m    204\u001b[0m \u001b[43m\u001b[49m\u001b[43m)\u001b[49m  \u001b[38;5;66;03m# Adjust weights\u001b[39;00m\n\u001b[1;32m    205\u001b[0m model\u001b[38;5;241m.\u001b[39mlearn_history[\u001b[38;5;124m\"\u001b[39m\u001b[38;5;124mtrain_loss\u001b[39m\u001b[38;5;124m\"\u001b[39m]\u001b[38;5;241m.\u001b[39mappend(train_loss)\n\u001b[1;32m    206\u001b[0m model\u001b[38;5;241m.\u001b[39meval()\n",
      "File \u001b[0;32m/mnt/8CD8D439D8D422EE/Escuela/Tesis/Tesis/src/tests/../interpolation/regression_nn.py:221\u001b[0m, in \u001b[0;36mRegressionNN.train_loop\u001b[0;34m(self, dataloader, loss_fn, optimizer, print_loss)\u001b[0m\n\u001b[1;32m    219\u001b[0m pred \u001b[38;5;241m=\u001b[39m \u001b[38;5;28mself\u001b[39m(X)\n\u001b[1;32m    220\u001b[0m loss \u001b[38;5;241m=\u001b[39m loss_fn(pred, y)\n\u001b[0;32m--> 221\u001b[0m train_loss \u001b[38;5;241m+\u001b[39m\u001b[38;5;241m=\u001b[39m \u001b[43mloss\u001b[49m\u001b[38;5;241;43m.\u001b[39;49m\u001b[43mitem\u001b[49m\u001b[43m(\u001b[49m\u001b[43m)\u001b[49m\n\u001b[1;32m    223\u001b[0m \u001b[38;5;66;03m# Backpropagation\u001b[39;00m\n\u001b[1;32m    224\u001b[0m optimizer\u001b[38;5;241m.\u001b[39mzero_grad()\n",
      "\u001b[0;31mKeyboardInterrupt\u001b[0m: "
     ]
    }
   ],
   "source": [
    "%load_ext autoreload\n",
    "%autoreload 2\n",
    "from interpolation.regression_nn import RegressionNN\n",
    "m1 = RegressionNN.nn_dataset_regression(dataset_train, dataset_test,1000, 50)"
   ]
  },
  {
   "cell_type": "code",
   "execution_count": null,
   "id": "ae0af4cd",
   "metadata": {},
   "outputs": [],
   "source": [
    "y_inter = odeint_interpolate( system, init_conditions, INTERVAL_LOW, INTERVAL_HIGH, 10000, (a,b,c))\n",
    "y_inter_time_norm = [get_time_norm_function(yi, INTERVAL_HIGH) for yi in y_inter]"
   ]
  },
  {
   "cell_type": "code",
   "execution_count": null,
   "id": "07d63e9d",
   "metadata": {},
   "outputs": [],
   "source": [
    "%load_ext autoreload\n",
    "%autoreload 2\n",
    "from query_set.check_var_exist import check_var_exist_grad_dataset\n",
    "# import math \n",
    "\n",
    "# def rmsValue(arr, n):\n",
    "#     square = 0\n",
    "#     mean = 0.0\n",
    "#     root = 0.0\n",
    "     \n",
    "#     #Calculate square\n",
    "#     for i in range(0,n):\n",
    "#         square += (arr[i]**2)\n",
    "     \n",
    "#     #Calculate Mean\n",
    "#     mean = (square / (float)(n))\n",
    "     \n",
    "#     #Calculate Root\n",
    "#     root = math.sqrt(mean)\n",
    "     \n",
    "#     return root\n",
    "\n",
    "# n = min(100000, len(dataset_train.X))\n",
    "values = check_var_exist_grad_dataset(m1, 0, dataset_train)\n",
    "avr = sum(values)/len(values)\n",
    "print(avr)\n",
    "\n",
    "\n",
    "values = check_var_exist_grad_dataset(m1, 1, dataset_train)\n",
    "avr = sum(values)/len(values)\n",
    "print(avr)\n",
    "\n",
    "\n",
    "values = check_var_exist_grad_dataset(m1, 2, dataset_train)\n",
    "avr = sum(values)/len(values)\n",
    "print(avr)\n",
    "\n",
    "values = check_var_exist_grad_dataset(m1, 3, dataset_train)\n",
    "avr = sum(values)/len(values)\n",
    "print(avr)"
   ]
  },
  {
   "cell_type": "code",
   "execution_count": null,
   "id": "fc7caac9",
   "metadata": {},
   "outputs": [],
   "source": [
    "%load_ext autoreload\n",
    "%autoreload 2\n",
    "from query_set.regression_dependency import check_polynomial_dependency\n",
    "\n",
    "result = check_polynomial_dependency(\n",
    "        m1,\n",
    "        2,\n",
    "        y_inter_time_norm,\n",
    "        0.25,\n",
    "        0.75,\n",
    "        3,\n",
    "        normalization_factor,\n",
    "        10,\n",
    "        1000,\n",
    "        include_time)\n",
    "\n",
    "print(result)"
   ]
  },
  {
   "cell_type": "code",
   "execution_count": null,
   "id": "0dbd682b",
   "metadata": {},
   "outputs": [],
   "source": []
  }
 ],
 "metadata": {
  "kernelspec": {
   "display_name": "Python [conda env:thesis116]",
   "language": "python",
   "name": "conda-env-thesis116-py"
  },
  "language_info": {
   "codemirror_mode": {
    "name": "ipython",
    "version": 3
   },
   "file_extension": ".py",
   "mimetype": "text/x-python",
   "name": "python",
   "nbconvert_exporter": "python",
   "pygments_lexer": "ipython3",
   "version": "3.9.13"
  }
 },
 "nbformat": 4,
 "nbformat_minor": 5
}
