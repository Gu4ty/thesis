{
 "cells": [
  {
   "cell_type": "markdown",
   "metadata": {},
   "source": [
    "### SIR\n",
    "https://journals.plos.org/plosone/article?id=10.1371/journal.pone.0262244"
   ]
  },
  {
   "cell_type": "markdown",
   "metadata": {},
   "source": [
    "### SEIR\n",
    "https://web.pdx.edu/~gjay/teaching/mth271_2020/html/09_SEIR_model.html"
   ]
  },
  {
   "cell_type": "markdown",
   "metadata": {},
   "source": [
    "### SI\n",
    "https://indico.ictp.it/event/7960/session/3/contribution/19/material/slides/0.pdf"
   ]
  },
  {
   "cell_type": "markdown",
   "metadata": {},
   "source": [
    "### SIR with Births and Deaths\n",
    "https://es.wikipedia.org/wiki/Modelaje_matem%C3%A1tico_de_epidemias#Modelo_SIR"
   ]
  },
  {
   "cell_type": "markdown",
   "metadata": {},
   "source": [
    "### SIS\n",
    "https://link.springer.com/chapter/10.1007/978-1-4939-9828-9_2#Sec2\n",
    "\n",
    "@Inbook{Brauer2019,\n",
    "author=\"Brauer, Fred\n",
    "and Castillo-Chavez, Carlos\n",
    "and Feng, Zhilan\",\n",
    "title=\"Simple Compartmental Models for Disease Transmission\",\n",
    "bookTitle=\"Mathematical Models in Epidemiology\",\n",
    "year=\"2019\",\n",
    "publisher=\"Springer New York\",\n",
    "address=\"New York, NY\",\n",
    "pages=\"21--61\",\n",
    "abstract=\"Communicable diseases that are endemic (always present in a population Endemic) cause many deaths). For example, in 2011 tuberculosis Tuberculosiscaused an estimated 1,400,000 deaths and HIV/AIDS HIV/AIDScaused an estimated 1,200,000 deaths worldwide. According to the World Health Organization there were 627,000 deaths caused by malaria, Malariabut other estimates put the number of malaria deaths at 1,2000,000. Measles, Measleswhich is easily treated in the developed world, caused 160,000 deaths in 2011, but in 1980 there were 2,600,000 measles deaths. The striking reduction in measles deaths is due to the availability of a measles vaccine. VaccineOther diseases such as typhus, Typhuscholera, Choleraschistosomiasis, Schistomiasisand sleeping sickness Sleeping sicknessare endemic in many parts of the world. The effects of high disease mortality Disease mortalityon mean life span and of disease debilitation Disease debilitationand mortality on the economy in afflicted countries are considerable. Most of these disease deaths are in less developed countries, especially in Africa, where endemic diseasesEndemicdiseaseare a huge barrier to development.\",\n",
    "isbn=\"978-1-4939-9828-9\",\n",
    "doi=\"10.1007/978-1-4939-9828-9_2\",\n",
    "url=\"https://doi.org/10.1007/978-1-4939-9828-9_2\"\n",
    "}"
   ]
  },
  {
   "cell_type": "markdown",
   "metadata": {},
   "source": [
    "### PLRV\n",
    "https://www.tandfonline.com/doi/full/10.1080/25765299.2020.1865621?src=recsys\n",
    "\n",
    "@article{doi:10.1080/25765299.2020.1865621,\n",
    "author = {Getachew Teshome Tilahun and Getinet Alemayehu Wolle and Mohammed Tofik},\n",
    "title = {Eco-epidemiological model and analysis of potato leaf roll virus using fractional differential equation},\n",
    "journal = {Arab Journal of Basic and Applied Sciences},\n",
    "volume = {28},\n",
    "number = {1},\n",
    "pages = {41-50},\n",
    "year  = {2021},\n",
    "publisher = {Taylor & Francis},\n",
    "doi = {10.1080/25765299.2020.1865621},\n",
    "\n",
    "URL = { \n",
    "        https://doi.org/10.1080/25765299.2020.1865621\n",
    "    \n",
    "},\n",
    "eprint = { \n",
    "        https://doi.org/10.1080/25765299.2020.1865621\n",
    "    \n",
    "}\n",
    "\n",
    "}"
   ]
  },
  {
   "cell_type": "markdown",
   "metadata": {},
   "source": [
    "### SIJA (nop)\n",
    "https://www.sciencedirect.com/science/article/pii/S0377042708005815"
   ]
  },
  {
   "cell_type": "markdown",
   "metadata": {},
   "source": [
    "### HIV-1 simple\n",
    "https://www.sciencedirect.com/science/article/pii/S0307904X12002831\n",
    "\n",
    "@article{ARAFA20132189,\n",
    "title = {The effect of anti-viral drug treatment of human immunodeficiency virus type 1 (HIV-1) described by a fractional order model},\n",
    "journal = {Applied Mathematical Modelling},\n",
    "volume = {37},\n",
    "number = {4},\n",
    "pages = {2189-2196},\n",
    "year = {2013},\n",
    "issn = {0307-904X},\n",
    "doi = {https://doi.org/10.1016/j.apm.2012.05.002},\n",
    "url = {https://www.sciencedirect.com/science/article/pii/S0307904X12002831},\n",
    "author = {A.A.M. Arafa and S.Z. Rida and M. Khalil},\n",
    "keywords = {Generalized Euler method, Homotopy analysis method, Caputo fractional derivative, HIV model, Numerical solution},\n",
    "abstract = {In this paper, generalized Euler method (GEM) and homotopy analysis method (HAM) are performed to solve the problem of the population dynamics of the human immunodeficiency type 1 virus (HIV-1). We introduce fractional orders to the model of HIV-1 whose components are plasma densities of uninfected CD4+ T-cells, the infected such cells and the free virus. The effect of the drug treatment of HIV-1 will be discussed in this paper.}\n",
    "}"
   ]
  },
  {
   "cell_type": "markdown",
   "metadata": {},
   "source": [
    "### HIV-1 complete\n",
    "https://www.sciencedirect.com/science/article/pii/S0307904X12002831\n",
    "\n",
    "@article{ARAFA20132189,\n",
    "title = {The effect of anti-viral drug treatment of human immunodeficiency virus type 1 (HIV-1) described by a fractional order model},\n",
    "journal = {Applied Mathematical Modelling},\n",
    "volume = {37},\n",
    "number = {4},\n",
    "pages = {2189-2196},\n",
    "year = {2013},\n",
    "issn = {0307-904X},\n",
    "doi = {https://doi.org/10.1016/j.apm.2012.05.002},\n",
    "url = {https://www.sciencedirect.com/science/article/pii/S0307904X12002831},\n",
    "author = {A.A.M. Arafa and S.Z. Rida and M. Khalil},\n",
    "keywords = {Generalized Euler method, Homotopy analysis method, Caputo fractional derivative, HIV model, Numerical solution},\n",
    "abstract = {In this paper, generalized Euler method (GEM) and homotopy analysis method (HAM) are performed to solve the problem of the population dynamics of the human immunodeficiency type 1 virus (HIV-1). We introduce fractional orders to the model of HIV-1 whose components are plasma densities of uninfected CD4+ T-cells, the infected such cells and the free virus. The effect of the drug treatment of HIV-1 will be discussed in this paper.}\n",
    "}"
   ]
  },
  {
   "cell_type": "markdown",
   "metadata": {},
   "source": [
    "### PSEIIdRD\n",
    "https://www.nature.com/articles/s41598-021-95494-6"
   ]
  },
  {
   "cell_type": "markdown",
   "metadata": {},
   "source": [
    "### SIRS\n",
    "https://es.wikipedia.org/wiki/Modelaje_matem%C3%A1tico_de_epidemias#Modelo_SIR"
   ]
  },
  {
   "cell_type": "markdown",
   "metadata": {},
   "source": [
    "### SEIS\n",
    "https://en.wikipedia.org/wiki/Compartmental_models_in_epidemiology#Other_compartmental_models"
   ]
  },
  {
   "cell_type": "markdown",
   "metadata": {},
   "source": [
    "### MSIR\n",
    "https://en.wikipedia.org/wiki/Compartmental_models_in_epidemiology#Other_compartmental_models"
   ]
  },
  {
   "cell_type": "markdown",
   "metadata": {},
   "source": [
    "### MSEIR\n",
    "https://en.wikipedia.org/wiki/Compartmental_models_in_epidemiology#Other_compartmental_models"
   ]
  },
  {
   "cell_type": "markdown",
   "metadata": {},
   "source": [
    "### SIRV\n",
    "https://en.wikipedia.org/wiki/Compartmental_models_in_epidemiology#Other_compartmental_models"
   ]
  },
  {
   "cell_type": "markdown",
   "metadata": {},
   "source": [
    "### SIRD\n",
    "https://en.wikipedia.org/wiki/Compartmental_models_in_epidemiology#The_SIRD_model"
   ]
  },
  {
   "cell_type": "markdown",
   "metadata": {},
   "source": [
    "### SIQRD\n",
    "https://tema.sbmac.org.br/tema/article/view/1490/1078"
   ]
  },
  {
   "cell_type": "markdown",
   "metadata": {},
   "source": [
    "### SEIRV\n",
    "https://link.springer.com/article/10.1007/s40819-021-01224-x"
   ]
  },
  {
   "cell_type": "markdown",
   "metadata": {},
   "source": [
    "### SEIRS\n",
    "https://link.springer.com/article/10.1007/s00285-019-01374-z"
   ]
  },
  {
   "cell_type": "markdown",
   "metadata": {},
   "source": [
    "### MSEIRS\n",
    "file:///home/liviton/Descargas/1478-1-1428-1-10-20180523.pdf"
   ]
  },
  {
   "cell_type": "markdown",
   "metadata": {},
   "source": [
    "### SEICR\n",
    "https://www.medrxiv.org/content/10.1101/2020.05.19.20106492v1.full.pdf"
   ]
  },
  {
   "cell_type": "markdown",
   "metadata": {},
   "source": [
    "### SLIRDS \n",
    "https://www.mdpi.com/1660-4601/16/23/4683/htm\n",
    "\n",
    "@Article{ijerph16234683,\n",
    "AUTHOR = {Bin, Sheng and Sun, Gengxin and Chen, Chih-Cheng},\n",
    "TITLE = {Spread of Infectious Disease Modeling and Analysis of Different Factors on Spread of Infectious Disease Based on Cellular Automata},\n",
    "JOURNAL = {International Journal of Environmental Research and Public Health},\n",
    "VOLUME = {16},\n",
    "YEAR = {2019},\n",
    "NUMBER = {23},\n",
    "ARTICLE-NUMBER = {4683},\n",
    "URL = {https://www.mdpi.com/1660-4601/16/23/4683},\n",
    "PubMedID = {31775236},\n",
    "ISSN = {1660-4601},\n",
    "ABSTRACT = {Infectious diseases are an important cause of human death. The study of the pathogenesis, spread regularity, and development trend of infectious diseases not only provides a theoretical basis for future research on infectious diseases, but also has practical guiding significance for the prevention and control of their spread. In this paper, a controlled differential equation and an objective function of infectious diseases were established by mathematical modeling. Based on cellular automata theory and a compartmental model, the SLIRDS (Susceptible-Latent-Infected-Recovered-Dead-Susceptible) model was constructed, a model which can better reflect the actual infectious process of infectious diseases. Considering the spread of disease in different populations, the model combines population density, sex ratio, and age structure to set the evolution rules of the model. Finally, on the basis of the SLIRDS model, the complex spread process of pandemic influenza A (H1N1) was simulated. The simulation results are similar to the macroscopic characteristics of pandemic influenza A (H1N1) in real life, thus the accuracy and rationality of the SLIRDS model are confirmed.},\n",
    "DOI = {10.3390/ijerph16234683}\n",
    "}"
   ]
  },
  {
   "cell_type": "markdown",
   "metadata": {},
   "source": [
    "### SIHR\n",
    "https://www.scirp.org/journal/paperinformation.aspx?paperid=112448"
   ]
  },
  {
   "cell_type": "markdown",
   "metadata": {},
   "source": [
    "### SIS_PM\n",
    "2013_LIU_XIAO_Modeling_EpidemicDiffusion_With_Population_Migration"
   ]
  },
  {
   "cell_type": "markdown",
   "metadata": {},
   "source": [
    "### SIRI (población constante, tasa de natalidad = mortalidad)\n",
    "https://idus.us.es/bitstream/handle/11441/77534/Lindes%20Col%C3%B3n%20Mercedes%20TFG.pdf?sequence=1&isAllowed=y"
   ]
  },
  {
   "cell_type": "markdown",
   "metadata": {},
   "source": [
    "### SIRI (Tasa de natalidad distinta de tasa de mortalidad. Muerte natural distinta de muerte por enfermedad)\n",
    "https://idus.us.es/bitstream/handle/11441/77534/Lindes%20Col%C3%B3n%20Mercedes%20TFG.pdf?sequence=1&isAllowed=y"
   ]
  },
  {
   "cell_type": "markdown",
   "metadata": {},
   "source": [
    "### SIQR\n",
    "https://www.fcfm.buap.mx/assets/docs/docencia/tesis/matematicas/EmileneCarmelitaPliegoPliego.pdf"
   ]
  },
  {
   "cell_type": "markdown",
   "metadata": {},
   "source": [
    "### SEI\n",
    "https://core.ac.uk/download/pdf/323349101.pdf"
   ]
  },
  {
   "cell_type": "markdown",
   "metadata": {},
   "source": [
    "### SEIR_BD\n",
    "https://bibliotecavirtual.unl.edu.ar:8443/bitstream/handle/11185/974/tesis.pdf?sequence=1"
   ]
  },
  {
   "cell_type": "markdown",
   "metadata": {},
   "source": [
    "### SIA comentado por malos resultados\n",
    "https://revista.redipe.org/index.php/1/article/view/1294/1202"
   ]
  },
  {
   "cell_type": "markdown",
   "metadata": {},
   "source": [
    "### SVVEIR\n",
    "https://www.nature.com/articles/s41598-021-95913-8"
   ]
  },
  {
   "cell_type": "markdown",
   "metadata": {},
   "source": [
    "### SEIIQFR\n",
    "https://www.e3s-conferences.org/articles/e3sconf/pdf/2021/104/e3sconf_icstunkhair2021_06002.pdf"
   ]
  },
  {
   "cell_type": "markdown",
   "metadata": {},
   "source": [
    "### SEIAR (nop)\n",
    "https://arxiv.org/pdf/2004.02601.pdf"
   ]
  },
  {
   "cell_type": "markdown",
   "metadata": {},
   "source": [
    "### SIRC (nop)\n",
    "https://www.scirp.org/journal/paperinformation.aspx?paperid=89071"
   ]
  }
 ],
 "metadata": {
  "kernelspec": {
   "display_name": "Python 3 (ipykernel)",
   "language": "python",
   "name": "python3"
  },
  "language_info": {
   "codemirror_mode": {
    "name": "ipython",
    "version": 3
   },
   "file_extension": ".py",
   "mimetype": "text/x-python",
   "name": "python",
   "nbconvert_exporter": "python",
   "pygments_lexer": "ipython3",
   "version": "3.9.12"
  }
 },
 "nbformat": 4,
 "nbformat_minor": 2
}
