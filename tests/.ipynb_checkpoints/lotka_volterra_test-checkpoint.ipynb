{
 "cells": [
  {
   "cell_type": "code",
   "execution_count": 44,
   "id": "7aad140c",
   "metadata": {},
   "outputs": [],
   "source": [
    "import sys\n",
    "sys.path.append(\"../\")"
   ]
  },
  {
   "cell_type": "code",
   "execution_count": 45,
   "id": "45f20c6e",
   "metadata": {},
   "outputs": [],
   "source": [
    "INTERVAL_LOW = 0\n",
    "INTERVAL_HIGH = 100\n",
    "SAMPLES = int(1e5)\n",
    "\n",
    "a = 0.04\n",
    "b = 0.0005\n",
    "c = 0.2\n",
    "d = 0.004\n",
    "normalization_factor = 100\n",
    "\n",
    "def system(y, t,a,b,c,d):\n",
    "    X, Y = y   \n",
    "    dXdt =  X*(a - b*Y) \n",
    "    dYdt = -Y*(c - d*X)\n",
    "    return dXdt, dYdt\n",
    "\n",
    "def get_time_norm_function(function, max_time):\n",
    "    def function_norm_time(t):\n",
    "        return function(t * max_time)\n",
    "\n",
    "    return function_norm_time\n",
    "\n",
    "\n",
    "# The ideal trained neural network model\n",
    "class ExactModel:\n",
    "    def eval_model(self, X):\n",
    "        return [X[1]* normalization_factor * (a - b * X[2] * normalization_factor)]\n",
    "        \n",
    "\n",
    "\n",
    "exact = ExactModel()"
   ]
  },
  {
   "cell_type": "code",
   "execution_count": 46,
   "id": "e7ce3c5b",
   "metadata": {},
   "outputs": [
    {
     "name": "stdout",
     "output_type": "stream",
     "text": [
      "Generating training data...\n",
      "Done\n"
     ]
    }
   ],
   "source": [
    "from interpolation.regression_dataset import RegressionDataset\n",
    "from interpolation.interpolate_system import odeint_interpolate\n",
    "\n",
    "init_conditions = [20,20]\n",
    "\n",
    "y_inter = odeint_interpolate( system, init_conditions, INTERVAL_LOW, INTERVAL_HIGH, 10000, (a,b,c,d) )\n",
    "y_inter_time_norm = [get_time_norm_function(yi, INTERVAL_HIGH) for yi in y_inter]\n",
    "\n",
    "def y_prime1(t):\n",
    "    return y_inter_time_norm[0](t) * (a - b * y_inter_time_norm[1](t))\n",
    "\n",
    "print(\"Generating training data...\")\n",
    "dataset_train = RegressionDataset(y_inter_time_norm, y_prime1, normalization_factor, SAMPLES * 80 // 100)\n",
    "dataset_test = RegressionDataset(y_inter_time_norm, y_prime1, normalization_factor, SAMPLES * 20 // 100)\n",
    "print(\"Done\")"
   ]
  },
  {
   "cell_type": "code",
   "execution_count": 47,
   "id": "78f17fb2",
   "metadata": {},
   "outputs": [
    {
     "name": "stdout",
     "output_type": "stream",
     "text": [
      "The autoreload extension is already loaded. To reload it, use:\n",
      "  %reload_ext autoreload\n",
      "epoch: 0\n",
      "Avg loss: 0.20032384246587753\n",
      "epoch: 1\n",
      "Avg loss: 0.0009571565315127373\n",
      "epoch: 2\n",
      "Avg loss: 4.903489571006503e-05\n",
      "epoch: 3\n",
      "Avg loss: 0.0002983496378874406\n",
      "epoch: 4\n",
      "Avg loss: 1.7496772488811985e-05\n",
      "epoch: 5\n",
      "Avg loss: 6.752913441232522e-06\n",
      "epoch: 6\n",
      "Avg loss: 0.0019690664601512255\n",
      "epoch: 7\n",
      "Avg loss: 0.0004988845874322578\n",
      "epoch: 8\n",
      "Avg loss: 0.0010343483183532954\n",
      "epoch: 9\n",
      "Avg loss: 0.01566409068182111\n",
      "epoch: 10\n",
      "Avg loss: 0.0008337121224030852\n",
      "epoch: 11\n",
      "Avg loss: 1.0168581411562627e-05\n",
      "epoch: 12\n",
      "Avg loss: 7.074108907545451e-06\n",
      "epoch: 13\n",
      "Avg loss: 0.021126303263008593\n",
      "epoch: 14\n",
      "Avg loss: 0.0011035045725293457\n",
      "epoch: 15\n",
      "Avg loss: 0.00016783284227130934\n",
      "epoch: 16\n",
      "Avg loss: 3.475176126812585e-05\n",
      "epoch: 17\n",
      "Avg loss: 1.458131864637835e-05\n",
      "epoch: 18\n",
      "Avg loss: 1.258501752090524e-05\n",
      "epoch: 19\n",
      "Avg loss: 0.00017686543287709355\n"
     ]
    }
   ],
   "source": [
    "%load_ext autoreload\n",
    "%autoreload 2\n",
    "from interpolation.regression_nn import RegressionNN\n",
    "\n",
    "m1 = RegressionNN.nn_regression(y_inter_time_norm, y_prime1, int(1e5), 2048, 20, dataset_train, dataset_test )"
   ]
  },
  {
   "cell_type": "code",
   "execution_count": 79,
   "id": "4be94d38",
   "metadata": {},
   "outputs": [
    {
     "name": "stdout",
     "output_type": "stream",
     "text": [
      "The autoreload extension is already loaded. To reload it, use:\n",
      "  %reload_ext autoreload\n",
      "selected t0: 0.1676\n",
      "Y[0](t0) = 36.14499228006862\n"
     ]
    },
    {
     "data": {
      "image/png": "[encoded data removed]",
      "text/plain": [
       "<Figure size 432x288 with 1 Axes>"
      ]
     },
     "metadata": {
      "needs_background": "light"
     },
     "output_type": "display_data"
    }
   ],
   "source": [
    "%load_ext autoreload\n",
    "%autoreload 2\n",
    "from query_set.graph_dependency import dependency_graph_epsilon\n",
    "import matplotlib.pyplot as plt\n",
    "\n",
    "\n",
    "dependency_graph_epsilon(\n",
    "        m1,\n",
    "        1,\n",
    "        y_inter_time_norm,\n",
    "        0,\n",
    "        1,\n",
    "        normalization_factor,\n",
    "        50,\n",
    "        1000,\n",
    "        \"N(X) for t,Y fixed\",\n",
    "        \"b\",\n",
    "        \"x\",\n",
    "        \"N(x)\",\n",
    "        exact\n",
    "    )\n",
    "\n",
    "\n",
    "plt.show()"
   ]
  },
  {
   "cell_type": "code",
   "execution_count": null,
   "id": "ebbc5ce5",
   "metadata": {},
   "outputs": [],
   "source": []
  },
  {
   "cell_type": "code",
   "execution_count": null,
   "id": "16f413c9",
   "metadata": {},
   "outputs": [],
   "source": []
  }
 ],
 "metadata": {
  "kernelspec": {
   "display_name": "Python [conda env:thesis]",
   "language": "python",
   "name": "conda-env-thesis-py"
  },
  "language_info": {
   "codemirror_mode": {
    "name": "ipython",
    "version": 3
   },
   "file_extension": ".py",
   "mimetype": "text/x-python",
   "name": "python",
   "nbconvert_exporter": "python",
   "pygments_lexer": "ipython3",
   "version": "3.10.4"
  }
 },
 "nbformat": 4,
 "nbformat_minor": 5
}
